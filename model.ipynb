{
 "cells": [
  {
   "cell_type": "code",
   "execution_count": null,
   "id": "92894c09",
   "metadata": {},
   "outputs": [],
   "source": [
    "\n",
    "import pandas as pd\n",
    "from sklearn.ensemble import RandomForestRegressor\n",
    "from sklearn.preprocessing import OrdinalEncoder\n",
    "\n",
    "# Load the dataset\n",
    "data = pd.read_csv('99acres_data.csv')\n",
    "\n",
    "# Preprocess the data\n",
    "# (Add any necessary preprocessing steps here)\n",
    "\n",
    "# Drop any rows with missing values\n",
    "data.dropna(inplace=True)\n",
    "\n",
    "\n",
    "# Define the features and target variable\n",
    "X = data.drop('monthly_rant', axis=1)\n",
    "y = data['monthly_rant']\n",
    "\n",
    "# Define the original feature names in the order they appear in the dataset\n",
    "original_feature_names = X.columns.tolist()\n",
    "\n",
    "# Initialize and fit the OrdinalEncoder for label encoding\n",
    "label_encoder = OrdinalEncoder(handle_unknown='use_encoded_value', unknown_value=-1)\n",
    "X = label_encoder.fit_transform(X)\n",
    "\n",
    "# Create and train the RandomForestRegressor model\n",
    "rf_model = RandomForestRegressor()\n",
    "rf_model.fit(X, y)\n"
   ]
  }
 ],
 "metadata": {
  "kernelspec": {
   "display_name": "Python 3 (ipykernel)",
   "language": "python",
   "name": "python3"
  },
  "language_info": {
   "codemirror_mode": {
    "name": "ipython",
    "version": 3
   },
   "file_extension": ".py",
   "mimetype": "text/x-python",
   "name": "python",
   "nbconvert_exporter": "python",
   "pygments_lexer": "ipython3",
   "version": "3.11.3"
  }
 },
 "nbformat": 4,
 "nbformat_minor": 5
}
